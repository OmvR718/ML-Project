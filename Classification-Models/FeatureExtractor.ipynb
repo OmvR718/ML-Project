{
 "cells": [
  {
   "cell_type": "code",
   "execution_count": null,
   "metadata": {},
   "outputs": [],
   "source": [
    "import numpy as np\n",
    "import cv2\n",
    "import os\n",
    "from skimage import color, exposure, feature\n",
    "import matplotlib.pyplot as plt\n",
    "from skimage import io\n",
    "from skimage.feature import hog\n",
    "from skimage import exposure\n",
    "import matplotlib.pyplot as plt\n",
    "from sklearn.preprocessing import LabelEncoder\n",
    "import pandas as pd\n",
    "from skimage import io\n",
    "from skimage import exposure\n",
    "from keras.preprocessing import image\n",
    "from keras.applications.resnet50 import ResNet50, preprocess_input\n",
    "from tensorflow.keras.preprocessing.image import ImageDataGenerator"
   ]
  },
  {
   "cell_type": "code",
   "execution_count": null,
   "metadata": {},
   "outputs": [],
   "source": [
    "# Path to the root folder of your dataset\n",
    "root_folder = r\"F:\\Eye Disease\\Data\"\n",
    "\n",
    "# List all subdirectories (assuming each subdirectory corresponds to a class)\n",
    "class_folders = [\"cataract\", \"diabetic_retinopathy\", \"normal\", \"glaucoma\"]\n",
    "\n",
    "features_list = []\n",
    "labels_list = []\n",
    "\n",
    "def extract_hog_features(image):\n",
    "    # Compute the HOG features\n",
    "    fd, hog_image = hog(image, orientations=8, pixels_per_cell=(4, 4), cells_per_block=(1, 1), visualize=True)\n",
    "\n",
    "    # Rescale histogram for better display\n",
    "    hog_image_rescaled = exposure.rescale_intensity(hog_image, in_range=(0, 10))\n",
    "\n",
    "    return fd, hog_image_rescaled\n",
    "\n",
    "for class_name in class_folders:\n",
    "    class_folder = os.path.join(root_folder, class_name)\n",
    "\n",
    "    for image_filename in os.listdir(class_folder):\n",
    "        image_path = os.path.join(class_folder, image_filename)\n",
    "\n",
    "        # Load the image\n",
    "        image = io.imread(image_path)\n",
    "\n",
    "        # Convert the image to grayscale\n",
    "        image_gray = cv2.cvtColor(image, cv2.COLOR_BGR2GRAY)\n",
    "\n",
    "        # Resize image to the same size (e.g., 64x64)\n",
    "        image_gray = cv2.resize(image_gray, (256, 256))\n",
    "\n",
    "        # Extract HOG features and visualize\n",
    "        hog_features, hog_image = extract_hog_features(image_gray)\n",
    "\n",
    "        # Display the original image and the HOG features\n",
    "        fig, (ax1, ax2) = plt.subplots(1, 2, figsize=(8, 4), sharex=True, sharey=True)\n",
    "\n",
    "        ax1.axis('off')\n",
    "        ax1.imshow(image_gray, cmap=plt.cm.gray)\n",
    "        ax1.set_title('Original Image')\n",
    "\n",
    "        ax2.axis('off')\n",
    "        ax2.imshow(hog_image, cmap=plt.cm.gray)\n",
    "        ax2.set_title('HOG Features')\n",
    "\n",
    "        plt.show()\n",
    "\n",
    "        # Append HOG features to the features list\n",
    "        features_list.append(hog_features)\n",
    "\n",
    "        # Append the label to the labels list\n",
    "        labels_list.append(class_name)"
   ]
  },
  {
   "cell_type": "code",
   "execution_count": null,
   "metadata": {},
   "outputs": [],
   "source": [
    "features_array = np.array(features_list)\n",
    "labels_array = np.array(labels_list)\n",
    "\n",
    "# Use LabelEncoder to convert class names into numeric labels\n",
    "label_encoder = LabelEncoder()\n",
    "numeric_labels = label_encoder.fit_transform(labels_array)\n",
    "\n",
    "print(\"\\n*********\\n\")\n",
    "print(len(features_array))"
   ]
  },
  {
   "cell_type": "code",
   "execution_count": null,
   "metadata": {},
   "outputs": [],
   "source": [
    "df = pd.DataFrame(data=features_array, columns=[f'HOG_feature_{i}' for i in range(features_array.shape[1])])\n",
    "df['Label'] = numeric_labels"
   ]
  },
  {
   "cell_type": "code",
   "execution_count": null,
   "metadata": {},
   "outputs": [],
   "source": [
    "df.head()"
   ]
  },
  {
   "cell_type": "code",
   "execution_count": null,
   "metadata": {},
   "outputs": [],
   "source": [
    "csv_filename = \"Features.csv\"\n",
    "df.to_csv(csv_filename, index=False)"
   ]
  }
 ],
 "metadata": {
  "kernelspec": {
   "display_name": "Python 3",
   "language": "python",
   "name": "python3"
  },
  "language_info": {
   "codemirror_mode": {
    "name": "ipython",
    "version": 3
   },
   "file_extension": ".py",
   "mimetype": "text/x-python",
   "name": "python",
   "nbconvert_exporter": "python",
   "pygments_lexer": "ipython3",
   "version": "3.10.0"
  }
 },
 "nbformat": 4,
 "nbformat_minor": 2
}
